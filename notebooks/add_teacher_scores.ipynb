{
 "cells": [
  {
   "cell_type": "code",
   "execution_count": null,
   "id": "77780f8b",
   "metadata": {},
   "outputs": [],
   "source": [
    "import torch\n",
    "import datasets\n",
    "import pandas as pd\n",
    "\n",
    "from datasets import load_dataset\n",
    "from transformers import AutoTokenizer, AutoModelForSequenceClassification"
   ]
  },
  {
   "cell_type": "code",
   "execution_count": null,
   "id": "b82fb0bf",
   "metadata": {},
   "outputs": [],
   "source": [
    "model = AutoModelForSequenceClassification.from_pretrained(\"cross-encoder/ms-marco-TinyBERT-L-2-v2\")\n",
    "tokenizer = AutoTokenizer.from_pretrained(\"cross-encoder/ms-marco-TinyBERT-L-2-v2\")"
   ]
  },
  {
   "cell_type": "code",
   "execution_count": null,
   "id": "21b6de5d",
   "metadata": {
    "scrolled": true
   },
   "outputs": [],
   "source": [
    "dataset = load_dataset(\"Tevatron/msmarco-passage\", split=\"train[:1%]\")"
   ]
  },
  {
   "cell_type": "code",
   "execution_count": null,
   "id": "4914ae75",
   "metadata": {},
   "outputs": [],
   "source": [
    "device = \"cuda\"\n",
    "model.to(device)\n",
    "model.eval()"
   ]
  },
  {
   "cell_type": "code",
   "execution_count": null,
   "id": "37622410",
   "metadata": {},
   "outputs": [],
   "source": [
    "def get_scores(sample, query, passage_type):\n",
    "    \n",
    "    new_sample = sample.copy()\n",
    "    \n",
    "    passages = [passage[\"text\"] for passage in sample[passage_type]]\n",
    "    \n",
    "    tmp_queries = [query] * len(passages)\n",
    "    features = tokenizer(tmp_queries, passages,  padding=True, truncation=True, return_tensors=\"pt\")\n",
    "    features.to(device)\n",
    "    \n",
    "    with torch.no_grad():\n",
    "        scores = model(**features).logits\n",
    "    for idx, ele in enumerate(new_sample[passage_type]):\n",
    "            ele[\"teacher_score\"] = scores[idx].item()\n",
    "            \n",
    "    return new_sample"
   ]
  },
  {
   "cell_type": "code",
   "execution_count": null,
   "id": "409ecc64",
   "metadata": {},
   "outputs": [],
   "source": [
    "def update_dataset(dataset):\n",
    "    new_dataset=[]\n",
    "    \n",
    "    for sample in dataset:\n",
    "\n",
    "        query = sample[\"query\"]\n",
    "\n",
    "        sample_w_teacher_score = get_scores(sample, query, \"positive_passages\")\n",
    "        sample.update(sample_w_teacher_score)\n",
    "\n",
    "\n",
    "        sample_w_teacher_score = get_scores(sample, query, \"negative_passages\")\n",
    "        sample.update(sample_w_teacher_score)        \n",
    "\n",
    "        new_dataset.append(sample)\n",
    "    \n",
    "    return new_dataset"
   ]
  },
  {
   "cell_type": "code",
   "execution_count": null,
   "id": "eea59160",
   "metadata": {},
   "outputs": [],
   "source": [
    "dataset_w_teacher_scores = update_dataset(dataset)"
   ]
  },
  {
   "cell_type": "code",
   "execution_count": null,
   "id": "f66bd3e5",
   "metadata": {},
   "outputs": [],
   "source": [
    "dataset_w_teacher_scores = datasets.Dataset.from_pandas(pd.DataFrame(data=dataset_w_teacher_scores))"
   ]
  },
  {
   "cell_type": "code",
   "execution_count": null,
   "id": "89481505",
   "metadata": {},
   "outputs": [],
   "source": [
    "dataset_w_teacher_scores.save_to_disk(\"new_dataset/\")"
   ]
  }
 ],
 "metadata": {
  "kernelspec": {
   "display_name": "Python (dpr_speech)",
   "language": "python",
   "name": "dpr_speech"
  },
  "language_info": {
   "codemirror_mode": {
    "name": "ipython",
    "version": 3
   },
   "file_extension": ".py",
   "mimetype": "text/x-python",
   "name": "python",
   "nbconvert_exporter": "python",
   "pygments_lexer": "ipython3",
   "version": "3.7.15"
  }
 },
 "nbformat": 4,
 "nbformat_minor": 5
}
